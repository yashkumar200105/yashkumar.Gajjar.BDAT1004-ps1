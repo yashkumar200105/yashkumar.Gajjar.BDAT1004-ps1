{
 "cells": [
  {
   "cell_type": "markdown",
   "id": "2dbfdc09",
   "metadata": {},
   "source": [
    "# QUESTION 1:\n",
    "What data type is each of the following (evaluate where necessary)?"
   ]
  },
  {
   "cell_type": "code",
   "execution_count": null,
   "id": "0cfd5fdc",
   "metadata": {},
   "outputs": [],
   "source": [
    "\n",
    "# Data type evaluation\n",
    "print(type(5))            # <class 'int'>\n",
    "print(type(5.0))          # <class 'float'>\n",
    "print(type(5 > 1))        # <class 'bool'>\n",
    "print(type('5'))          # <class 'str'>\n",
    "print(type(5 * 2))        # <class 'int'>\n",
    "print(type('5' * 2))      # <class 'str'>\n",
    "print(type('5' + '2'))    # <class 'str'>\n",
    "print(type(5 / 2))        # <class 'float'>\n",
    "print(type(5 % 2))        # <class 'int'>\n",
    "print(type({5, 2, 1}))    # <class 'set'>\n",
    "print(type(5 == 3))       # <class 'bool'>\n",
    "from math import pi\n",
    "print(type(pi))           # <class 'float'>\n"
   ]
  },
  {
   "cell_type": "markdown",
   "id": "be3d2a77",
   "metadata": {},
   "source": [
    "# QUESTION 2:\n",
    "Write (and evaluate) python expressions that answer these questions:"
   ]
  },
  {
   "cell_type": "code",
   "execution_count": null,
   "id": "4a3ccf05",
   "metadata": {},
   "outputs": [],
   "source": [
    "\n",
    "# a. How many letters are there in 'Supercalifragilisticexpialidocious'?\n",
    "word = 'Supercalifragilisticexpialidocious'\n",
    "letter_count = len(word)\n",
    "print(\"Number of letters:\", letter_count)\n",
    "\n",
    "# b. Does 'Supercalifragilisticexpialidocious' contain 'ice' as a substring?\n",
    "contains_ice = 'ice' in word\n",
    "print(\"Contains 'ice':\", contains_ice)\n",
    "\n",
    "# c. Which of the following words is the longest?\n",
    "words = ['Supercalifragilisticexpialidocious', 'Honorificabilitudinitatibus', 'Bababadalgharaghtakamminarronnkonn']\n",
    "longest_word = max(words, key=len)\n",
    "print(\"The longest word is:\", longest_word)\n",
    "\n",
    "# d. Which composer comes first and last in the dictionary?\n",
    "composers = ['Berlioz', 'Borodin', 'Brian', 'Bartok', 'Bellini', 'Buxtehude', 'Bernstein']\n",
    "first_composer = min(composers)\n",
    "last_composer = max(composers)\n",
    "print(\"First composer:\", first_composer)\n",
    "print(\"Last composer:\", last_composer)\n"
   ]
  },
  {
   "cell_type": "markdown",
   "id": "6908d3b1",
   "metadata": {},
   "source": [
    "# QUESTION 3:\n",
    "Implement function triangleArea(a,b,c) that calculates the area using Heron's formula."
   ]
  },
  {
   "cell_type": "code",
   "execution_count": null,
   "id": "a5553593",
   "metadata": {},
   "outputs": [],
   "source": [
    "\n",
    "import math\n",
    "\n",
    "def triangleArea(a, b, c):\n",
    "    s = (a + b + c) / 2\n",
    "    area = math.sqrt(s * (s - a) * (s - b) * (s - c))\n",
    "    return area\n",
    "\n",
    "# Test the function\n",
    "area = triangleArea(2, 2, 2)\n",
    "print(\"Area of the triangle:\", area)\n"
   ]
  },
  {
   "cell_type": "markdown",
   "id": "c63f3a0f",
   "metadata": {},
   "source": [
    "# QUESTION 4:\n",
    "Write a program in python to separate odd and even integers in separate arrays."
   ]
  },
  {
   "cell_type": "code",
   "execution_count": null,
   "id": "1360cf16",
   "metadata": {},
   "outputs": [],
   "source": [
    "\n",
    "# Separating odd and even integers\n",
    "def separate_odd_even(arr):\n",
    "    even = [num for num in arr if num % 2 == 0]\n",
    "    odd = [num for num in arr if num % 2 != 0]\n",
    "    return even, odd\n",
    "\n",
    "# Test data\n",
    "elements = [25, 47, 42, 56, 32]\n",
    "even_elements, odd_elements = separate_odd_even(elements)\n",
    "print(\"The Even elements are:\", even_elements)\n",
    "print(\"The Odd elements are:\", odd_elements)\n"
   ]
  },
  {
   "cell_type": "markdown",
   "id": "5fe418d4",
   "metadata": {},
   "source": [
    "# QUESTION 5:\n",
    "Implement the inside function and test for given conditions."
   ]
  },
  {
   "cell_type": "code",
   "execution_count": null,
   "id": "bdeed120",
   "metadata": {},
   "outputs": [],
   "source": [
    "\n",
    "def inside(x, y, x1, y1, x2, y2):\n",
    "    return x1 <= x <= x2 and y1 <= y <= y2\n",
    "\n",
    "# Test cases\n",
    "print(inside(1, 1, 0, 0, 2, 3))      # True\n",
    "print(inside(-1, -1, 0, 0, 2, 3))    # False\n",
    "\n",
    "# Test if (1,1) lies in both rectangles\n",
    "rect1 = inside(1, 1, 0.3, 0.5, 1.1, 0.7)\n",
    "rect2 = inside(1, 1, 0.5, 0.2, 1.1, 2)\n",
    "print(rect1 and rect2)  # False\n"
   ]
  },
  {
   "cell_type": "markdown",
   "id": "65ad5b2f",
   "metadata": {},
   "source": [
    "# QUESTION 6:\n",
    "Implement the pig-Latin conversion function."
   ]
  },
  {
   "cell_type": "code",
   "execution_count": null,
   "id": "38799039",
   "metadata": {},
   "outputs": [],
   "source": [
    "\n",
    "def pig(word):\n",
    "    word = word.lower()\n",
    "    vowels = 'aeiou'\n",
    "    if word[0] in vowels:\n",
    "        return word + 'way'\n",
    "    else:\n",
    "        return word[1:] + word[0] + 'ay'\n",
    "\n",
    "# Test cases\n",
    "print(pig('happy'))  # appyhay\n",
    "print(pig('Enter'))  # enterway\n"
   ]
  },
  {
   "cell_type": "markdown",
   "id": "ed631474",
   "metadata": {},
   "source": [
    "# QUESTION 7:\n",
    "Write a function bldcount() to count blood types in a file."
   ]
  },
  {
   "cell_type": "code",
   "execution_count": null,
   "id": "c5910b19",
   "metadata": {},
   "outputs": [],
   "source": [
    "\n",
    "def bldcount(filename):\n",
    "    with open(filename, 'r') as file:\n",
    "        blood_types = file.read().split()\n",
    "    \n",
    "    types = ['A', 'B', 'AB', 'O', 'OO']\n",
    "    counts = {blood_type: blood_types.count(blood_type) for blood_type in types}\n",
    "    \n",
    "    for blood_type, count in counts.items():\n",
    "        if count == 0:\n",
    "            print(f\"There are no patients of blood type {blood_type}.\")\n",
    "        elif count == 1:\n",
    "            print(f\"There is one patient of blood type {blood_type}.\")\n",
    "        else:\n",
    "            print(f\"There are {count} patients of blood type {blood_type}.\")\n",
    "    \n",
    "# bldcount('bloodtype.txt')  # Uncomment and provide the correct path for testing\n"
   ]
  },
  {
   "cell_type": "markdown",
   "id": "d46786b5",
   "metadata": {},
   "source": [
    "# QUESTION 8:\n",
    "Write a function curconv() to convert currency to USD."
   ]
  },
  {
   "cell_type": "code",
   "execution_count": null,
   "id": "48190fd7",
   "metadata": {},
   "outputs": [],
   "source": [
    "\n",
    "def curconv(currency, amount):\n",
    "    rates = {\n",
    "        'AUD': 1.0345157, 'CHF': 1.0237414, 'CNY': 0.1550176, 'DKK': 0.1651442, 'EUR': 1.2296544,\n",
    "        'GBP': 1.5550989, 'HKD': 0.1270207, 'INR': 0.0177643, 'JPY': 0.01241401, 'MXN': 0.0751848,\n",
    "        'MYR': 0.3145411, 'NOK': 0.1677063, 'NZD': 0.8003591, 'PHP': 0.0233234, 'SEK': 0.148269,\n",
    "        'SGD': 0.788871, 'THB': 0.0313789\n",
    "    }\n",
    "    return amount * rates[currency]\n",
    "\n",
    "# Test cases\n",
    "print(curconv('EUR', 100))  # 122.96544\n",
    "print(curconv('JPY', 100))  # 1.241401\n"
   ]
  },
  {
   "cell_type": "markdown",
   "id": "676d9970",
   "metadata": {},
   "source": [
    "# QUESTION 9:\n",
    "Identify the type of exceptions for each case."
   ]
  },
  {
   "cell_type": "code",
   "execution_count": null,
   "id": "1f7ec989",
   "metadata": {},
   "outputs": [],
   "source": [
    "\n",
    "# a. Adding incompatible variables: 6 + 'a'\n",
    "# TypeError: unsupported operand type(s) for +: 'int' and 'str'\n",
    "\n",
    "# b. Referring to the 12th item of a list with only 10 items\n",
    "# IndexError: list index out of range\n",
    "\n",
    "# c. Calling math.sqrt(-1.0)\n",
    "# ValueError: math domain error\n",
    "\n",
    "# d. Using an undeclared variable: print(x)\n",
    "# NameError: name 'x' is not defined\n",
    "\n",
    "# e. Trying to open a file that does not exist\n",
    "# FileNotFoundError: [Errno 2] No such file or directory: 'filename'\n"
   ]
  },
  {
   "cell_type": "markdown",
   "id": "12d42a89",
   "metadata": {},
   "source": [
    "# QUESTION 10:\n",
    "Implement a function to count letter frequencies in a string."
   ]
  },
  {
   "cell_type": "code",
   "execution_count": null,
   "id": "efd33e97",
   "metadata": {},
   "outputs": [],
   "source": [
    "\n",
    "def frequencies(text):\n",
    "    letters = 'abcdefghijklmnopqrstuvwxyz'\n",
    "    text = text.lower()\n",
    "    return [text.count(letter) for letter in letters]\n",
    "\n",
    "# Test cases\n",
    "print(frequencies('The quick red fox got bored and went home.'))\n",
    "print(frequencies('apple'))\n"
   ]
  }
 ],
 "metadata": {},
 "nbformat": 4,
 "nbformat_minor": 5
}
